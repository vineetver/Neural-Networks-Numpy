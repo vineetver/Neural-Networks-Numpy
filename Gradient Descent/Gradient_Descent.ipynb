{
 "cells": [
  {
   "cell_type": "markdown",
   "metadata": {},
   "source": [
    "### Implementing Batch, Stochastic and Mini-Batch Gradient Descent in Numpy"
   ]
  },
  {
   "cell_type": "code",
   "execution_count": 11,
   "metadata": {},
   "outputs": [],
   "source": [
    "import numpy as np\n",
    "import matplotlib.pyplot as plt\n",
    "from sklearn import datasets\n",
    "from numpy.random import seed\n",
    "from sklearn.model_selection import train_test_split\n",
    "from sklearn.metrics import confusion_matrix, ConfusionMatrixDisplay\n",
    "import time"
   ]
  },
  {
   "cell_type": "code",
   "execution_count": 12,
   "metadata": {},
   "outputs": [
    {
     "data": {
      "text/plain": [
       "array(['setosa', 'versicolor', 'virginica'], dtype='<U10')"
      ]
     },
     "execution_count": 12,
     "metadata": {},
     "output_type": "execute_result"
    }
   ],
   "source": [
    "iris = datasets.load_iris()\n",
    "iris.target_names"
   ]
  },
  {
   "cell_type": "code",
   "execution_count": 13,
   "metadata": {},
   "outputs": [],
   "source": [
    "X = iris['data']                         # selecting all features\n",
    "Y = (iris['target'] == 0).astype(int)    # selectiong iris setosa\n",
    "Y = np.where(Y == 0, 0, 1)    "
   ]
  },
  {
   "cell_type": "markdown",
   "metadata": {},
   "source": [
    "##### Cost function MSE :\n",
    "\n",
    "$$\n",
    "MSE = 1/N \\sum_{i = 1}^{n}{(y^i - \\theta^Tx^i)^2}\n",
    "$$\n",
    "\n",
    "where $ \\theta $ is model's parameter vector and contains bias term $ \\theta_0 $ and feature weights $ \\theta_1 $ to $\\theta_n $"
   ]
  },
  {
   "cell_type": "markdown",
   "metadata": {},
   "source": [
    "##### Gradient Descent:\n",
    "$$\n",
    "\\theta^{t+1} ← \\theta^t - \\eta\\nabla{MSE}\n",
    "$$\n",
    "\n",
    "$\\nabla{MSE}$ can we directly calculated by the formula:\n",
    "\n",
    "$$\n",
    "\\nabla{MSE} = {2/m} ({X\\theta - y}) {X^T}\n",
    "$$"
   ]
  },
  {
   "cell_type": "markdown",
   "metadata": {},
   "source": [
    "### Train/Test split"
   ]
  },
  {
   "cell_type": "code",
   "execution_count": 14,
   "metadata": {},
   "outputs": [],
   "source": [
    "x_train, x_test, y_train, y_test = train_test_split(X, Y, test_size=0.2, random_state=10) "
   ]
  },
  {
   "cell_type": "markdown",
   "metadata": {},
   "source": [
    "### Perceptron"
   ]
  },
  {
   "cell_type": "code",
   "execution_count": 17,
   "metadata": {},
   "outputs": [],
   "source": [
    "class Perceptron:\n",
    "    def __init__(self, epochs, learning_rate, gradient_descent='stochastic', mini_batch_size=12):\n",
    "        \"\"\"\n",
    "        Perceptron.\n",
    "\n",
    "        Parameters\n",
    "        ------------\n",
    "        learning_rate : float\n",
    "            Learning rate (between 0.0 and 1.0 preferred).\n",
    "        epochs : int\n",
    "            number of passes over the training dataset.\n",
    "        gradient_descent : string\n",
    "            'batch' , 'stochastic' , 'mini-batch' or 'none'\n",
    "        mini_batch_size : int\n",
    "            size of mini batch for mini-batch gradient descent\n",
    "\n",
    "        Attributes\n",
    "        -----------\n",
    "        theta_ : 1d-array\n",
    "            Weights after fitting.\n",
    "        errors_ : list\n",
    "            Number of misclassifications in every epoch.\n",
    "        X : 4d-array\n",
    "            Training data\n",
    "        Y : 1d-array\n",
    "            Training labels\n",
    "        \"\"\"\n",
    "        self.epochs = epochs\n",
    "        self.learning_rate = learning_rate\n",
    "        self.gradient_descent = gradient_descent\n",
    "        self.mini_batch_size = mini_batch_size\n",
    "        self.errors_ = []\n",
    "        self.b_ = 0\n",
    "\n",
    "    @staticmethod\n",
    "    def calculate_loss(Y, y_pred):\n",
    "        \"\"\"\n",
    "        This function calculates the MSE loss\n",
    "        MSE = 1/m (sum(y - y_pred)^2))\n",
    "        where m is the number of training examples\n",
    "\n",
    "        Parameters\n",
    "        ----------\n",
    "        Y : 1d-array\n",
    "            Training labels\n",
    "        y_pred : 1d-array\n",
    "            Predicted labels\n",
    "\n",
    "        Returns\n",
    "        -------\n",
    "        MSE : float\n",
    "            Mean squared error\n",
    "        \"\"\"\n",
    "        error = (1/len(X)) * np.sum(np.square(Y - y_pred))\n",
    "        return error\n",
    "\n",
    "    def mini_batch_gradient_descent(self, X, Y):\n",
    "        \"\"\"\n",
    "        This function performs mini-batch gradient descent\n",
    "\n",
    "        Parameters\n",
    "        ----------\n",
    "        X : 4d-array\n",
    "            Training data\n",
    "        Y : 1d-array\n",
    "            Training labels\n",
    "        \"\"\"    \n",
    "        seed(19)                               \n",
    "        m = len(X)  \n",
    "        self.theta_ = np.random.randn(X.shape[1])                                    ## number of training examples\n",
    "        start_time = time.time()\n",
    "        self.eta_ = self.learning_rate \n",
    "\n",
    "        for epoch in range(self.epochs):    \n",
    "            error = 0                                                \n",
    "            random_mini_batch = np.random.permutation(m)           \n",
    "            X = X[random_mini_batch]                               \n",
    "            Y = Y[random_mini_batch]\n",
    "            for i in range(0, m, self.mini_batch_size):     \n",
    "                xi = X[i : i + self.mini_batch_size]            \n",
    "                yi = Y[i : i + self.mini_batch_size]            \n",
    "                nabla_mse = 2/m * xi.T.dot(xi.dot(self.theta_) - yi)        ## Calculate the nabla_mse   xi^T . (xi . theta - yi) using the random mini-batches of X and Y\n",
    "                self.theta_ -= self.eta_ * nabla_mse                        ## Update theta using the nabla_mse  (eta * nabla_mse)\n",
    "                error = self.calculate_loss(Y, self.predict(X))              ## Calculate the MSE \n",
    "            self.errors_.append(error)\n",
    "            print(\n",
    "                f'Epoch: {epoch + 1} [==========================] Time: {time.time() - start_time:.2}s | Error: {error * 100:.2f}')\n",
    "        return self\n",
    "\n",
    "\n",
    "    def batch_gradient_descent(self, X, Y):\n",
    "        \"\"\"\n",
    "        This function performs batch gradient descent\n",
    "        \"\"\"\n",
    "        self.theta_ = np.random.randn(X.shape[1])\n",
    "        self.eta_ = self.learning_rate\n",
    "        m = len(X)\n",
    "        start_time = time.time()\n",
    "\n",
    "        for epoch in range(self.epochs):\n",
    "            nabla_mse = 2/m * X.T.dot(X.dot(self.theta_) - Y)  ## Calculate the nabla_mse   X^T . (X . theta - Y) using X and Y (whole training data)\n",
    "            self.theta_ -= self.eta_ * nabla_mse               ## Update theta using the nabla_mse  (eta * nabla_mse)\n",
    "            error = self.calculate_loss(Y, self.predict(X))      ## Calculate the error\n",
    "            self.errors_.append(error) \n",
    "            print(\n",
    "                f'Epoch: {epoch + 1} [==========================] Time: {time.time() - start_time:.2}s | Error: {error * 100:.2f}') \n",
    "        return self\n",
    "\n",
    "    def stochastic_gradient_descent(self, X, Y):\n",
    "        \"\"\"\n",
    "        Perform stochastic gradient descent\n",
    "        \"\"\"\n",
    "        seed(42)\n",
    "        self.theta_ = np.random.randn(X.shape[1])\n",
    "        self.eta_ = self.learning_rate\n",
    "        m = len(X)\n",
    "        start_time = time.time()\n",
    "\n",
    "        for epoch in range(self.epochs):\n",
    "            error = 0\n",
    "            for i in range(m):\n",
    "                random_index = i\n",
    "                xi = X[random_index:random_index+1]     ## get one random value of X \n",
    "                yi = Y[random_index:random_index+1]     ## get one random value of Y\n",
    "                nabla_mse = 2/m * xi.T.dot(xi.dot(self.theta_) - yi)    ## Calculate the nabla_mse   xi^T . (xi . theta - yi) using one random value of X and Y \n",
    "                self.theta_ -= self.eta_ * nabla_mse                ## Update theta using the nabla_mse  (eta * nabla_mse)\n",
    "                error = self.calculate_loss(Y, self.predict(X))      \n",
    "            self.errors_.append(error)\n",
    "            print(\n",
    "                f'Epoch: {epoch + 1} [==========================] Time: {time.time() - start_time:.2}s | Error: {error * 100:.2f}')\n",
    "        return self\n",
    "\n",
    "    def fit(self, X, Y):\n",
    "        \"\"\"\n",
    "        This function fits the model to the training data\n",
    "        \"\"\"\n",
    "\n",
    "        if self.gradient_descent == 'batch':            \n",
    "            self.batch_gradient_descent(X, Y)              \n",
    "        elif self.gradient_descent == 'stochastic':     \n",
    "            self.stochastic_gradient_descent(X,Y)          \n",
    "        elif self.gradient_descent == 'mini-batch':     \n",
    "            self.mini_batch_gradient_descent(X, Y)        \n",
    "        else:\n",
    "            raise ValueError('Invalid gradient descent type')\n",
    "        return self\n",
    "\n",
    "    def net_output(self, X):\n",
    "        \"\"\"\n",
    "        This function calculates the net output of the network\n",
    "        thetaX + b\n",
    "        \"\"\"\n",
    "        return np.dot(X, self.theta_) + self.b_\n",
    "\n",
    "    def predict(self, X):\n",
    "        \"\"\"\n",
    "        This function calculates the predicted output of the network\n",
    "\n",
    "        thetaX + b > 0 -> y = 1\n",
    "        thetaX + b < 0 -> y = 0\n",
    "        \"\"\"\n",
    "        return np.where(self.net_output(X) >= 0, 1, 0)\n"
   ]
  },
  {
   "cell_type": "code",
   "execution_count": 20,
   "metadata": {},
   "outputs": [
    {
     "name": "stdout",
     "output_type": "stream",
     "text": [
      "Epoch: 1 [==========================] Time: 0.001s | Error: 26.67\n",
      "Epoch: 2 [==========================] Time: 0.002s | Error: 26.67\n",
      "Epoch: 3 [==========================] Time: 0.003s | Error: 26.67\n",
      "Epoch: 4 [==========================] Time: 0.003s | Error: 26.67\n",
      "Epoch: 5 [==========================] Time: 0.004s | Error: 26.67\n",
      "Epoch: 6 [==========================] Time: 0.005s | Error: 26.67\n",
      "Epoch: 7 [==========================] Time: 0.005s | Error: 26.67\n",
      "Epoch: 8 [==========================] Time: 0.006s | Error: 26.67\n",
      "Epoch: 9 [==========================] Time: 0.007s | Error: 26.67\n",
      "Epoch: 10 [==========================] Time: 0.007s | Error: 26.67\n",
      "Epoch: 11 [==========================] Time: 0.008s | Error: 26.67\n",
      "Epoch: 12 [==========================] Time: 0.008s | Error: 26.67\n",
      "Epoch: 13 [==========================] Time: 0.009s | Error: 26.67\n",
      "Epoch: 14 [==========================] Time: 0.01s | Error: 26.67\n",
      "Epoch: 15 [==========================] Time: 0.01s | Error: 26.67\n",
      "Epoch: 16 [==========================] Time: 0.011s | Error: 26.67\n",
      "Epoch: 17 [==========================] Time: 0.012s | Error: 26.67\n",
      "Epoch: 18 [==========================] Time: 0.012s | Error: 26.67\n",
      "Epoch: 19 [==========================] Time: 0.013s | Error: 26.67\n",
      "Epoch: 20 [==========================] Time: 0.014s | Error: 26.67\n",
      "Epoch: 21 [==========================] Time: 0.014s | Error: 26.67\n",
      "Epoch: 22 [==========================] Time: 0.015s | Error: 26.67\n",
      "Epoch: 23 [==========================] Time: 0.016s | Error: 26.67\n",
      "Epoch: 24 [==========================] Time: 0.016s | Error: 26.67\n",
      "Epoch: 25 [==========================] Time: 0.017s | Error: 26.67\n",
      "Epoch: 26 [==========================] Time: 0.018s | Error: 26.67\n",
      "Epoch: 27 [==========================] Time: 0.018s | Error: 26.67\n",
      "Epoch: 28 [==========================] Time: 0.019s | Error: 26.67\n",
      "Epoch: 29 [==========================] Time: 0.02s | Error: 26.67\n",
      "Epoch: 30 [==========================] Time: 0.02s | Error: 26.67\n",
      "Epoch: 31 [==========================] Time: 0.021s | Error: 26.67\n",
      "Epoch: 32 [==========================] Time: 0.021s | Error: 26.67\n",
      "Epoch: 33 [==========================] Time: 0.022s | Error: 26.67\n",
      "Epoch: 34 [==========================] Time: 0.022s | Error: 26.67\n",
      "Epoch: 35 [==========================] Time: 0.023s | Error: 26.67\n",
      "Epoch: 36 [==========================] Time: 0.024s | Error: 26.67\n",
      "Epoch: 37 [==========================] Time: 0.024s | Error: 25.33\n",
      "Epoch: 38 [==========================] Time: 0.025s | Error: 24.67\n",
      "Epoch: 39 [==========================] Time: 0.025s | Error: 24.67\n",
      "Epoch: 40 [==========================] Time: 0.026s | Error: 24.67\n",
      "Epoch: 41 [==========================] Time: 0.027s | Error: 24.67\n",
      "Epoch: 42 [==========================] Time: 0.027s | Error: 24.67\n",
      "Epoch: 43 [==========================] Time: 0.028s | Error: 24.00\n",
      "Epoch: 44 [==========================] Time: 0.028s | Error: 22.67\n",
      "Epoch: 45 [==========================] Time: 0.029s | Error: 22.67\n",
      "Epoch: 46 [==========================] Time: 0.029s | Error: 22.00\n",
      "Epoch: 47 [==========================] Time: 0.03s | Error: 22.00\n",
      "Epoch: 48 [==========================] Time: 0.03s | Error: 20.67\n",
      "Epoch: 49 [==========================] Time: 0.031s | Error: 18.00\n",
      "Epoch: 50 [==========================] Time: 0.032s | Error: 16.00\n",
      "Epoch: 51 [==========================] Time: 0.032s | Error: 14.00\n",
      "Epoch: 52 [==========================] Time: 0.033s | Error: 13.33\n",
      "Epoch: 53 [==========================] Time: 0.034s | Error: 10.67\n",
      "Epoch: 54 [==========================] Time: 0.034s | Error: 10.67\n",
      "Epoch: 55 [==========================] Time: 0.035s | Error: 9.33\n",
      "Epoch: 56 [==========================] Time: 0.035s | Error: 8.67\n",
      "Epoch: 57 [==========================] Time: 0.036s | Error: 7.33\n",
      "Epoch: 58 [==========================] Time: 0.036s | Error: 7.33\n",
      "Epoch: 59 [==========================] Time: 0.037s | Error: 6.67\n",
      "Epoch: 60 [==========================] Time: 0.038s | Error: 6.00\n",
      "Epoch: 61 [==========================] Time: 0.038s | Error: 5.33\n",
      "Epoch: 62 [==========================] Time: 0.039s | Error: 3.33\n",
      "Epoch: 63 [==========================] Time: 0.039s | Error: 2.67\n",
      "Epoch: 64 [==========================] Time: 0.04s | Error: 2.00\n",
      "Epoch: 65 [==========================] Time: 0.041s | Error: 1.33\n",
      "Epoch: 66 [==========================] Time: 0.041s | Error: 1.33\n",
      "Epoch: 67 [==========================] Time: 0.042s | Error: 1.33\n",
      "Epoch: 68 [==========================] Time: 0.042s | Error: 1.33\n",
      "Epoch: 69 [==========================] Time: 0.043s | Error: 1.33\n",
      "Epoch: 70 [==========================] Time: 0.043s | Error: 1.33\n",
      "\n",
      "True Positive Rate:  1.0 \n",
      "True Negative Rate:  0.9\n"
     ]
    }
   ],
   "source": [
    "\n",
    "## After tuning the hyperparameters, here are the best values for the perceptron\n",
    "\n",
    "# stochastic gradient descent\n",
    "# clf = Perceptron(epochs=50, learning_rate=0.1, gradient_descent='stochastic', mini_batch_size = 50)\n",
    "\n",
    "# batch gradient descent\n",
    "# clf = Perceptron(epochs=50, learning_rate=0.001, gradient_descent='batch', mini_batch_size = 50)\n",
    "\n",
    "# mini-batch gradient descent\n",
    "# clf = Perceptron(epochs=70, learning_rate=0.0001, gradient_descent='mini-batch', mini_batch_size = 12)\n",
    "\n",
    "# no gradient descent (just perceptron learning rule)\n",
    "# clf = Perceptron(epochs=70, learning_rate=0.0001, gradient_descent='none', mini_batch_size = 50)\n",
    "\n",
    "\n",
    "clf = Perceptron(epochs=70, learning_rate=0.0001, gradient_descent='mini-batch', mini_batch_size = 12)\n",
    "clf.fit(x_train, y_train)\n",
    "y_pred = clf.predict(x_test)\n",
    "\n",
    "mse = np.square(np.subtract(y_test, y_pred))                                ## MSE without mean for plotting\n",
    "\n",
    "TN, FP, FN, TP = confusion_matrix(y_test, y_pred, labels=[1, 0]).ravel()    ## TPR and TNR\n",
    "TPR = TP/(TP+FN)                                                            # Sensitivity, hit rate, recall, or true positive rate\n",
    "TNR = TN/(TN+FP)                                                            # Specificity or true negative rate\n",
    "print('\\nTrue Positive Rate: ', TPR, '\\nTrue Negative Rate: ', TNR)\n"
   ]
  },
  {
   "cell_type": "markdown",
   "metadata": {},
   "source": [
    "### Visualization"
   ]
  },
  {
   "cell_type": "code",
   "execution_count": 21,
   "metadata": {},
   "outputs": [
    {
     "data": {
      "image/png": "[encoded data removed]",
      "text/plain": [
       "<Figure size 432x288 with 1 Axes>"
      ]
     },
     "metadata": {
      "needs_background": "light"
     },
     "output_type": "display_data"
    },
    {
     "data": {
      "image/png": "[encoded data removed]",
      "text/plain": [
       "<Figure size 432x288 with 1 Axes>"
      ]
     },
     "metadata": {
      "needs_background": "light"
     },
     "output_type": "display_data"
    },
    {
     "data": {
      "text/plain": [
       "<sklearn.metrics._plot.confusion_matrix.ConfusionMatrixDisplay at 0x2079749b760>"
      ]
     },
     "execution_count": 21,
     "metadata": {},
     "output_type": "execute_result"
    },
    {
     "data": {
      "image/png": "[encoded data removed]",
      "text/plain": [
       "<Figure size 432x288 with 2 Axes>"
      ]
     },
     "metadata": {
      "needs_background": "light"
     },
     "output_type": "display_data"
    }
   ],
   "source": [
    "\n",
    "plt.plot(range(1, len(clf.errors_) + 1),\n",
    "         clf.errors_, marker='o', label='Training error')\n",
    "plt.title('Training MSE vs Epochs')\n",
    "plt.xlabel('Epoch')\n",
    "plt.ylabel('MSE')\n",
    "# plt.ylim(ymin=0)\n",
    "plt.legend()\n",
    "plt.show()\n",
    "\n",
    "\n",
    "plt.plot(range(1, len(y_pred) + 1), mse, 'r', label='Testing error', alpha=0.5)\n",
    "plt.title('Testing MSE vs Epochs')\n",
    "plt.xlabel('Epoch')\n",
    "plt.ylabel('MSE')\n",
    "# plt.ylim(ymin=0)\n",
    "plt.legend()\n",
    "plt.show()\n",
    "\n",
    "\n",
    "## Confusion matrix\n",
    "cm = confusion_matrix(y_test, y_pred)\n",
    "cmd = ConfusionMatrixDisplay(cm, display_labels=[0, 1])\n",
    "cmd.plot(include_values=True, cmap='viridis')"
   ]
  },
  {
   "cell_type": "code",
   "execution_count": null,
   "metadata": {},
   "outputs": [],
   "source": []
  }
 ],
 "metadata": {
  "interpreter": {
   "hash": "31d7989649452b8ff5b252a3e34caf45e4ffd8a5787fe28fc2ce0245f11b7782"
  },
  "kernelspec": {
   "display_name": "Python 3.9.7 ('ml')",
   "language": "python",
   "name": "python3"
  },
  "language_info": {
   "codemirror_mode": {
    "name": "ipython",
    "version": 3
   },
   "file_extension": ".py",
   "mimetype": "text/x-python",
   "name": "python",
   "nbconvert_exporter": "python",
   "pygments_lexer": "ipython3",
   "version": "3.8.12"
  },
  "orig_nbformat": 4
 },
 "nbformat": 4,
 "nbformat_minor": 2
}
