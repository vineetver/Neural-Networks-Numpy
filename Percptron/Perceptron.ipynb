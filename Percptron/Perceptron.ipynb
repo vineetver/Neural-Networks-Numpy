{
 "cells": [
  {
   "cell_type": "code",
   "execution_count": null,
   "outputs": [],
   "source": [
    "import numpy as np\n",
    "import matplotlib.pyplot as plt\n",
    "from sklearn import datasets\n",
    "from sklearn.model_selection import train_test_split\n",
    "from numpy.random import seed\n",
    "from sklearn.metrics import confusion_matrix, ConfusionMatrixDisplay\n",
    "from sklearn.model_selection import StratifiedShuffleSplit\n",
    "import time"
   ],
   "metadata": {
    "collapsed": false,
    "pycharm": {
     "name": "#%%\n"
    }
   }
  },
  {
   "cell_type": "markdown",
   "source": [
    "## Preprocessing\n",
    "\n",
    "This notebook assumes, the reader have worked with iris dataset before. <br>"
   ],
   "metadata": {
    "collapsed": false,
    "pycharm": {
     "name": "#%% md\n"
    }
   }
  },
  {
   "cell_type": "code",
   "execution_count": null,
   "outputs": [],
   "source": [
    "iris = datasets.load_iris()\n",
    "iris.target_names"
   ],
   "metadata": {
    "collapsed": false,
    "pycharm": {
     "name": "#%%\n"
    }
   }
  },
  {
   "cell_type": "markdown",
   "source": [
    "Transformation of labels to binary \n",
    "\n",
    "$0$ - Iris Setosa <br>\n",
    "$1$ - Iris Versicolor <br>\n",
    "$2$ - Iris Virginica <br>\n",
    "\n",
    "After transformation\n",
    "\n",
    "$1$ - Iris Setosa <br>\n",
    "$0$ - Iris Versicolor and Iris Virginica\n"
   ],
   "metadata": {
    "collapsed": false,
    "pycharm": {
     "name": "#%% md\n"
    }
   }
  },
  {
   "cell_type": "code",
   "execution_count": null,
   "outputs": [],
   "source": [
    "X = iris['data']                         # selecting all features\n",
    "Y = (iris['target'] == 0).astype(int)    # selectiong iris setosa\n",
    "Y = np.where(Y == 0, 0, 1)               # 1 if Iris setosa, else 0"
   ],
   "metadata": {
    "collapsed": false,
    "pycharm": {
     "name": "#%%\n"
    }
   }
  },
  {
   "cell_type": "code",
   "execution_count": null,
   "outputs": [],
   "source": [
    "seed = 50\n",
    "sample = StratifiedShuffleSplit(n_splits=1, test_size=0.2, random_state=seed)\n",
    "\n",
    "for train, test in sample.split(X, Y):\n",
    "    x_train, x_test, y_train, y_test = X[train], X[test], Y[train], Y[test]"
   ],
   "metadata": {
    "collapsed": false,
    "pycharm": {
     "name": "#%%\n"
    }
   }
  },
  {
   "cell_type": "markdown",
   "source": [
    "## Class Perceptron"
   ],
   "metadata": {
    "collapsed": false,
    "pycharm": {
     "name": "#%% md\n"
    }
   }
  },
  {
   "cell_type": "code",
   "execution_count": null,
   "outputs": [],
   "source": [
    "class Perceptron:\n",
    "    def __init__(self, epochs, learning_rate):\n",
    "        \"\"\"\n",
    "        Perceptron.\n",
    "\n",
    "        Parameters\n",
    "        ------------\n",
    "        learning_rate : float\n",
    "            Learning rate (between 0.0 and 1.0 preferred).\n",
    "        epochs : int\n",
    "            number of passes over the training dataset.\n",
    "\n",
    "        Attributes\n",
    "        -----------\n",
    "        theta_ : 1d-array\n",
    "            Weights of the network.\n",
    "        errors_ : list\n",
    "            Number of misclassifications in every epoch.\n",
    "        \"\"\"\n",
    "        self.theta_ = np.random.randn(X.shape[1])\n",
    "        self.errors_ = []\n",
    "        self.epochs = epochs\n",
    "        self.learning_rate = learning_rate\n",
    "\n",
    "    @staticmethod\n",
    "    def calculate_loss(Y, y_pred):\n",
    "        \"\"\"\n",
    "        This function calculates the MSE loss\n",
    "        MSE = 1/m (sum(y - y_pred)^2))\n",
    "        \"\"\"\n",
    "        cost = (1/len(X)) * np.sum(np.square(Y - y_pred))\n",
    "        return cost\n",
    "\n",
    "    def fit(self, X, Y):\n",
    "        \"\"\"\n",
    "        This function trains the perceptron.\n",
    "        \"\"\"\n",
    "        self.b_ = 0\n",
    "        self.X = X\n",
    "        self.Y = Y\n",
    "        start_time = time.time()\n",
    "\n",
    "        ## perform perceptron learning rule       \n",
    "        for epoch in range(self.epochs):\n",
    "            \"\"\"\n",
    "            We can also use the Normal Equation to solve this problem directly.\n",
    "            \"\"\"                   \n",
    "            error = 0\n",
    "            for x, y in zip(X, Y):\n",
    "                nabla_mse_perceptron = self.learning_rate * (y - self.predict(x))  # weight update formula (learning rate * (y - y_pred))\n",
    "                self.theta_ += nabla_mse_perceptron * x                               \n",
    "                self.b_ += nabla_mse_perceptron       \n",
    "\n",
    "            error = self.calculate_loss(y, self.predict(x))             \n",
    "            self.errors_.append(error)\n",
    "            print(f'Epoch: {epoch + 1} [==========================] Time: {time.time() - start_time:.2}s | Error: {error * 100:.2f}')\n",
    "\n",
    "        return self\n",
    "\n",
    "    def net_output(self, X):\n",
    "        \"\"\"\n",
    "        This function calculates the net output of the perceptron.\n",
    "        \"\"\"\n",
    "        return np.dot(X, self.theta_) + self.b_\n",
    "\n",
    "    def predict(self, X):\n",
    "        \"\"\"\n",
    "        This function predicts the class of an input.\n",
    "\n",
    "        Threshold of the net output to get a binary prediction.\n",
    "        thetaX + b > 0 -> y = 1\n",
    "        thetaX + b < 0 -> y = 0\n",
    "        \"\"\"\n",
    "        return np.where(self.net_output(X) >= 0, 1, 0)\n",
    "\n",
    "    def print_weights(self, prompt):\n",
    "        \"\"\"\n",
    "        This function prints the weights of the network.\n",
    "        \"\"\"\n",
    "        W1 = self.theta_\n",
    "\n",
    "        print('[=========================================================]')\n",
    "        print(f'Weight W1 {prompt}: \\n{W1}')\n",
    "        print('[=========================================================]')"
   ],
   "metadata": {
    "collapsed": false,
    "pycharm": {
     "name": "#%%\n"
    }
   }
  },
  {
   "cell_type": "code",
   "execution_count": null,
   "outputs": [],
   "source": [
    "clf = Perceptron(epochs=10, learning_rate=0.1)"
   ],
   "metadata": {
    "collapsed": false,
    "pycharm": {
     "name": "#%%\n"
    }
   }
  },
  {
   "cell_type": "code",
   "execution_count": null,
   "outputs": [],
   "source": [
    "clf.print_weights('before training')"
   ],
   "metadata": {
    "collapsed": false,
    "pycharm": {
     "name": "#%%\n"
    }
   }
  },
  {
   "cell_type": "code",
   "execution_count": null,
   "outputs": [],
   "source": [
    "clf.fit(x_train, y_train)"
   ],
   "metadata": {
    "collapsed": false,
    "pycharm": {
     "name": "#%%\n"
    }
   }
  },
  {
   "cell_type": "code",
   "execution_count": null,
   "outputs": [],
   "source": [
    "clf.print_weights('after training')"
   ],
   "metadata": {
    "collapsed": false,
    "pycharm": {
     "name": "#%%\n"
    }
   }
  }
 ],
 "metadata": {
  "interpreter": {
   "hash": "29c75b1f656e0b1ae38298d922e204e268fabb475feb2323015295e781085b10"
  },
  "kernelspec": {
   "display_name": "Python 3.8.12 ('ml')",
   "language": "python",
   "name": "python3"
  },
  "language_info": {
   "codemirror_mode": {
    "name": "ipython",
    "version": 3
   },
   "file_extension": ".py",
   "mimetype": "text/x-python",
   "name": "python",
   "nbconvert_exporter": "python",
   "pygments_lexer": "ipython3",
   "version": "3.8.12"
  },
  "orig_nbformat": 4
 },
 "nbformat": 4,
 "nbformat_minor": 2
}